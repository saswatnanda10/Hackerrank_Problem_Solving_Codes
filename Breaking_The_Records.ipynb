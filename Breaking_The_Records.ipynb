{
 "cells": [
  {
   "cell_type": "markdown",
   "id": "78ac9e96",
   "metadata": {},
   "source": [
    "# Breaking The Records"
   ]
  },
  {
   "cell_type": "code",
   "execution_count": null,
   "id": "a397e97a",
   "metadata": {},
   "outputs": [],
   "source": [
    "#!/bin/python3\n",
    "\n",
    "import math\n",
    "import os\n",
    "import random\n",
    "import re\n",
    "import sys\n",
    "\n",
    "#\n",
    "# Complete the 'breakingRecords' function below.\n",
    "#\n",
    "# The function is expected to return an INTEGER_ARRAY.\n",
    "# The function accepts INTEGER_ARRAY scores as parameter.\n",
    "#\n",
    "\n",
    "def breakingRecords(scores):\n",
    "    # Write your code here\n",
    "    maxv=minv=0\n",
    "    maxc=scores[0]\n",
    "    minc=scores[0]\n",
    "    for i in range(0, len(scores)):\n",
    "        if scores[i]>maxc:\n",
    "            maxv+=1\n",
    "            maxc=scores[i]\n",
    "        elif scores[i]<minc:\n",
    "            minv+=1\n",
    "            minc=scores[i]\n",
    "            \n",
    "    result=[maxv,minv]\n",
    "    return result\n",
    "        \n",
    "   \n",
    "if __name__ == '__main__':\n",
    "    fptr = open(os.environ['OUTPUT_PATH'], 'w')\n",
    "\n",
    "    n = int(input().strip())\n",
    "\n",
    "    scores = list(map(int, input().rstrip().split()))\n",
    "\n",
    "    result = breakingRecords(scores)\n",
    "\n",
    "    fptr.write(' '.join(map(str, result)))\n",
    "    fptr.write('\\n')\n",
    "\n",
    "    fptr.close()\n"
   ]
  }
 ],
 "metadata": {
  "kernelspec": {
   "display_name": "Python 3 (ipykernel)",
   "language": "python",
   "name": "python3"
  },
  "language_info": {
   "codemirror_mode": {
    "name": "ipython",
    "version": 3
   },
   "file_extension": ".py",
   "mimetype": "text/x-python",
   "name": "python",
   "nbconvert_exporter": "python",
   "pygments_lexer": "ipython3",
   "version": "3.9.7"
  }
 },
 "nbformat": 4,
 "nbformat_minor": 5
}
